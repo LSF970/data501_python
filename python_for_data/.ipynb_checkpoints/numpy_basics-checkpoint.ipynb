{
 "cells": [
  {
   "cell_type": "markdown",
   "id": "8563db8e-7c4e-45bb-a67a-87928ea8bce7",
   "metadata": {},
   "source": [
    "# Numpy"
   ]
  },
  {
   "cell_type": "markdown",
   "id": "3efe69de-73ad-4f29-bbeb-af36375ac9ff",
   "metadata": {},
   "source": [
    "Numpy is a library which provides support for large, homogeneous, multi-dimensional arrays and matrices"
   ]
  },
  {
   "cell_type": "code",
   "execution_count": 1,
   "id": "cc1958bd-8736-4e1d-9fbf-43cf81902906",
   "metadata": {},
   "outputs": [],
   "source": [
    "# import numpy\n",
    "import numpy as np"
   ]
  },
  {
   "cell_type": "markdown",
   "id": "9596acbc-498d-457c-b2b3-7a5c68ed310f",
   "metadata": {},
   "source": [
    "## Creating Arrays in Numpy\n",
    "\n",
    "### Creating an array from a list"
   ]
  },
  {
   "cell_type": "code",
   "execution_count": 2,
   "id": "6a22dec3-2644-4b27-bd7d-c15e331b65c4",
   "metadata": {},
   "outputs": [
    {
     "data": {
      "text/plain": [
       "[10, 20, 30]"
      ]
     },
     "execution_count": 2,
     "metadata": {},
     "output_type": "execute_result"
    }
   ],
   "source": [
    "list1 = [10,20,30]\n",
    "list1"
   ]
  },
  {
   "cell_type": "code",
   "execution_count": 3,
   "id": "ef261e9f-ad25-4805-822e-04880d6be1d2",
   "metadata": {},
   "outputs": [
    {
     "data": {
      "text/plain": [
       "array([10, 20, 30])"
      ]
     },
     "execution_count": 3,
     "metadata": {},
     "output_type": "execute_result"
    }
   ],
   "source": [
    "arr1 = np.array(list1)\n",
    "arr1"
   ]
  },
  {
   "cell_type": "code",
   "execution_count": 4,
   "id": "87ae80f6-32ce-407d-8333-8ff6b0c04fea",
   "metadata": {},
   "outputs": [
    {
     "data": {
      "text/plain": [
       "numpy.ndarray"
      ]
     },
     "execution_count": 4,
     "metadata": {},
     "output_type": "execute_result"
    }
   ],
   "source": [
    "type(arr1)"
   ]
  },
  {
   "cell_type": "markdown",
   "id": "98b1dae6-88fe-4ae7-8f4f-393aa82ee137",
   "metadata": {},
   "source": [
    "### Using arrange to create an array\n",
    "\n",
    "The difference between array and arrange is that array takes in a list and turns it into an array, whereas arange creates an array from a range of numbers."
   ]
  },
  {
   "cell_type": "code",
   "execution_count": 7,
   "id": "848baf2d-5c57-43eb-98a1-6615363a0959",
   "metadata": {},
   "outputs": [
    {
     "data": {
      "text/plain": [
       "array([10, 11, 12, 13, 14, 15, 16, 17, 18, 19])"
      ]
     },
     "execution_count": 7,
     "metadata": {},
     "output_type": "execute_result"
    }
   ],
   "source": [
    "arr2 = np.arange(10, 20, 1) # (Start, Stop, Step-Size)\n",
    "arr2"
   ]
  },
  {
   "cell_type": "markdown",
   "id": "b3ccbbb0-1a58-4412-b019-0140f199d174",
   "metadata": {},
   "source": [
    "## Multidimensional arrays\n",
    "\n",
    "### Combining two list - Two-dimensional arrays\n",
    "\n",
    "When we combine arrays together, we can add dimensions. Combining two arrays gives us a 2d array!\n",
    "\n",
    "This creates a matric for us on which we can perform matrix operations."
   ]
  },
  {
   "cell_type": "code",
   "execution_count": 8,
   "id": "b3f8ea38-873c-404f-ac6e-6a18a2d2e1c6",
   "metadata": {},
   "outputs": [
    {
     "data": {
      "text/plain": [
       "array([[10, 20, 30],\n",
       "       [40, 50, 60]])"
      ]
     },
     "execution_count": 8,
     "metadata": {},
     "output_type": "execute_result"
    }
   ],
   "source": [
    "# let's create a new list to join onto the first list\n",
    "list2 = [40,50,60]\n",
    "\n",
    "# Join the lists\n",
    "list3 = [list1, list2]\n",
    "\n",
    "# Create an array out of the joined lists\n",
    "arr3 = np.array(list3)\n",
    "arr3"
   ]
  },
  {
   "cell_type": "code",
   "execution_count": 9,
   "id": "1e60a3c5-b8fc-45a4-9178-94d624be33ea",
   "metadata": {},
   "outputs": [
    {
     "data": {
      "text/plain": [
       "(2, 3)"
      ]
     },
     "execution_count": 9,
     "metadata": {},
     "output_type": "execute_result"
    }
   ],
   "source": [
    "# Let's find the shape of that array\n",
    "# We have a 2d array with 2 elements in the first instance and 3 in the second\n",
    "arr3.shape"
   ]
  },
  {
   "cell_type": "markdown",
   "id": "de08caae-0df0-4765-8b90-521d3de4ae92",
   "metadata": {},
   "source": [
    "### Three-dimensional arrays"
   ]
  },
  {
   "cell_type": "code",
   "execution_count": 10,
   "id": "59968218-c795-4b40-8e3b-7aff1aefe5d1",
   "metadata": {},
   "outputs": [
    {
     "data": {
      "text/plain": [
       "array([[[1, 2, 3],\n",
       "        [3, 4, 5]],\n",
       "\n",
       "       [[5, 6, 7],\n",
       "        [7, 8, 9]]])"
      ]
     },
     "execution_count": 10,
     "metadata": {},
     "output_type": "execute_result"
    }
   ],
   "source": [
    "arr3dim = np.array([[[1,2,3],[3,4,5]],[[5,6,7],[7,8,9]]])\n",
    "arr3dim"
   ]
  },
  {
   "cell_type": "code",
   "execution_count": 11,
   "id": "e66d217d-de68-45e7-9b94-068fd9d47c60",
   "metadata": {},
   "outputs": [
    {
     "data": {
      "text/plain": [
       "(2, 2, 3)"
      ]
     },
     "execution_count": 11,
     "metadata": {},
     "output_type": "execute_result"
    }
   ],
   "source": [
    "arr3dim.shape"
   ]
  },
  {
   "cell_type": "markdown",
   "id": "2ac3e472-cbe9-4f79-a73a-52abb97e5f0c",
   "metadata": {},
   "source": [
    "## Using Arrays and Scalars\n",
    "\n",
    "Numpy arrays (or ndarray) allow us to perform matrix operations."
   ]
  },
  {
   "cell_type": "code",
   "execution_count": 12,
   "id": "b0269f2b-04df-4d3b-9fd8-f9e201401f6f",
   "metadata": {},
   "outputs": [
    {
     "data": {
      "text/plain": [
       "array([[[ 3,  6,  9],\n",
       "        [ 9, 12, 15]],\n",
       "\n",
       "       [[15, 18, 21],\n",
       "        [21, 24, 27]]])"
      ]
     },
     "execution_count": 12,
     "metadata": {},
     "output_type": "execute_result"
    }
   ],
   "source": [
    "# For example, we can use simple multiplication\n",
    "arr3dim * 3"
   ]
  },
  {
   "cell_type": "code",
   "execution_count": 14,
   "id": "cf7e8533-32f3-4972-ab7d-6a51608bbee1",
   "metadata": {},
   "outputs": [
    {
     "data": {
      "text/plain": [
       "[10, 20, 30, 10, 20, 30, 10, 20, 30]"
      ]
     },
     "execution_count": 14,
     "metadata": {},
     "output_type": "execute_result"
    }
   ],
   "source": [
    "# How is this different that trying to do:\n",
    "list1 * 3\n",
    "# Lists and arrays are treated differently, see below:"
   ]
  },
  {
   "cell_type": "code",
   "execution_count": 15,
   "id": "cb303f20-bec3-475c-b72c-b6cd3dc96665",
   "metadata": {},
   "outputs": [
    {
     "data": {
      "text/plain": [
       "array([ 400, 1000, 1800])"
      ]
     },
     "execution_count": 15,
     "metadata": {},
     "output_type": "execute_result"
    }
   ],
   "source": [
    "# We can actually multiply an array with another array\n",
    "\n",
    "# Create a new array with the same size as arr1\n",
    "arr11 = np.array(list2)\n",
    "\n",
    "# Multiply the arrays, what will happen?\n",
    "arr1 * arr11"
   ]
  },
  {
   "cell_type": "markdown",
   "id": "740ae2fc-99f6-45de-9dfd-7cd65de88d94",
   "metadata": {},
   "source": [
    "### Can we multiply arrays of different shapes?"
   ]
  },
  {
   "cell_type": "code",
   "execution_count": 16,
   "id": "d26f3fcc-7384-4216-9a2b-edc918b940f2",
   "metadata": {},
   "outputs": [
    {
     "ename": "ValueError",
     "evalue": "operands could not be broadcast together with shapes (3,) (10,) ",
     "output_type": "error",
     "traceback": [
      "\u001b[1;31m---------------------------------------------------------------------------\u001b[0m",
      "\u001b[1;31mValueError\u001b[0m                                Traceback (most recent call last)",
      "Cell \u001b[1;32mIn[16], line 1\u001b[0m\n\u001b[1;32m----> 1\u001b[0m \u001b[43marr1\u001b[49m\u001b[43m \u001b[49m\u001b[38;5;241;43m*\u001b[39;49m\u001b[43m \u001b[49m\u001b[43marr2\u001b[49m\n",
      "\u001b[1;31mValueError\u001b[0m: operands could not be broadcast together with shapes (3,) (10,) "
     ]
    }
   ],
   "source": [
    "arr1 * arr2"
   ]
  },
  {
   "cell_type": "markdown",
   "id": "b1c6da5e-b714-4c85-af0f-52e8fbb08a56",
   "metadata": {},
   "source": [
    "The answer is NO! "
   ]
  },
  {
   "cell_type": "markdown",
   "id": "54e8599e-aa66-46ce-a767-09c05223e670",
   "metadata": {},
   "source": [
    "### It is possible to multiply arrays of different dimensions, but they need the same element size!"
   ]
  },
  {
   "cell_type": "code",
   "execution_count": 17,
   "id": "68cd4261-cb01-4ee4-a0c5-2e5cd247c2bf",
   "metadata": {},
   "outputs": [
    {
     "data": {
      "text/plain": [
       "array([[[ 10,  40,  90],\n",
       "        [ 30,  80, 150]],\n",
       "\n",
       "       [[ 50, 120, 210],\n",
       "        [ 70, 160, 270]]])"
      ]
     },
     "execution_count": 17,
     "metadata": {},
     "output_type": "execute_result"
    }
   ],
   "source": [
    "arr1 * arr3dim"
   ]
  },
  {
   "cell_type": "markdown",
   "id": "edea4b3e-7534-4965-923b-6f5be0216540",
   "metadata": {},
   "source": [
    "## Array examples"
   ]
  },
  {
   "cell_type": "code",
   "execution_count": 19,
   "id": "fec87958-73e8-4c13-9d8b-e2266da4e141",
   "metadata": {},
   "outputs": [
    {
     "data": {
      "text/plain": [
       "(12,)"
      ]
     },
     "execution_count": 19,
     "metadata": {},
     "output_type": "execute_result"
    }
   ],
   "source": [
    "# One-Dimensional array\n",
    "my_1d_arr = np.array([1,2,3,4,5,6,7,8,9,10,11,12])\n",
    "my_1d_arr.shape"
   ]
  },
  {
   "cell_type": "code",
   "execution_count": 24,
   "id": "7b4b3b24-16e5-443d-8f2a-5197c0d9b549",
   "metadata": {},
   "outputs": [
    {
     "data": {
      "text/plain": [
       "(3, 4)"
      ]
     },
     "execution_count": 24,
     "metadata": {},
     "output_type": "execute_result"
    }
   ],
   "source": [
    "# Two-Dimensional array\n",
    "my_2d_arr = np.array([[5,10,15, 20],[25, 30, 35, 40], [45, 50, 55, 60]])\n",
    "my_2d_arr.shape"
   ]
  },
  {
   "cell_type": "code",
   "execution_count": 29,
   "id": "1741e2e1-9077-47f1-a243-ac137b217d3c",
   "metadata": {},
   "outputs": [
    {
     "data": {
      "text/plain": [
       "(2, 5, 4)"
      ]
     },
     "execution_count": 29,
     "metadata": {},
     "output_type": "execute_result"
    }
   ],
   "source": [
    "# Three-Dimensional array\n",
    "my_3d_array = np.array([\n",
    "    [\n",
    "        [1.1, 1.2, 1.3, 1.4], \n",
    "        [2.1, 2.2, 2.3, 2.4],  \n",
    "        [3.1, 3.2, 3.3, 3.4],  \n",
    "        [4.1, 4.2, 4.3, 4.4],  \n",
    "        [5.1, 5.2, 5.3, 5.4]   \n",
    "    ],\n",
    "    [\n",
    "        [6.1, 6.2, 6.3, 6.4],  \n",
    "        [7.1, 7.2, 7.3, 7.4],  \n",
    "        [8.1, 8.2, 8.3, 8.4],  \n",
    "        [9.1, 9.2, 9.3, 9.4],  \n",
    "        [10.1, 10.2, 10.3, 10.4] \n",
    "    ]\n",
    "])\n",
    "my_3d_array.shape"
   ]
  },
  {
   "cell_type": "markdown",
   "id": "9617d78f-bd57-4683-83ee-89b985663f87",
   "metadata": {},
   "source": [
    "### Accessing the values inside ndarrays\n",
    "\n",
    "Let's take arr3 as our example, this was a 2d array"
   ]
  },
  {
   "cell_type": "code",
   "execution_count": 30,
   "id": "62c5ab2c-ec23-4552-a096-68f396b6474a",
   "metadata": {},
   "outputs": [
    {
     "data": {
      "text/plain": [
       "array([[10, 20, 30],\n",
       "       [40, 50, 60]])"
      ]
     },
     "execution_count": 30,
     "metadata": {},
     "output_type": "execute_result"
    }
   ],
   "source": [
    "# How can we access the 60?\n",
    "arr3"
   ]
  },
  {
   "cell_type": "code",
   "execution_count": 31,
   "id": "88cf0e26-2488-40b1-a7ea-272adea5b600",
   "metadata": {},
   "outputs": [
    {
     "data": {
      "text/plain": [
       "60"
      ]
     },
     "execution_count": 31,
     "metadata": {},
     "output_type": "execute_result"
    }
   ],
   "source": [
    "# We can use indexing\n",
    "arr3[1][2]\n",
    "\n",
    "# We can just use a comma!\n",
    "arr3[1,2]"
   ]
  },
  {
   "cell_type": "code",
   "execution_count": 32,
   "id": "7ce712bc-3e7d-4add-850e-9ed19b466da1",
   "metadata": {},
   "outputs": [
    {
     "data": {
      "text/plain": [
       "array([40, 50, 60])"
      ]
     },
     "execution_count": 32,
     "metadata": {},
     "output_type": "execute_result"
    }
   ],
   "source": [
    "# How can I get the bottom \"row\" of this ndarray?\n",
    "arr3[1]"
   ]
  },
  {
   "cell_type": "code",
   "execution_count": 34,
   "id": "8e45f0e3-8e85-4207-bb50-311e974a2386",
   "metadata": {},
   "outputs": [
    {
     "data": {
      "text/plain": [
       "array([30, 60])"
      ]
     },
     "execution_count": 34,
     "metadata": {},
     "output_type": "execute_result"
    }
   ],
   "source": [
    "# How about if we just want the last COLUMN?\n",
    "# : Means everything, so see below:\n",
    "arr3[:,2]"
   ]
  },
  {
   "cell_type": "markdown",
   "id": "fa1323fc-7b9d-4121-8899-75b2ef411e73",
   "metadata": {},
   "source": [
    "## Statistical functions and arrays\n",
    "\n",
    "There are a number of builtin statistical functions we can use with numpy"
   ]
  },
  {
   "cell_type": "code",
   "execution_count": 35,
   "id": "5838a616-64bd-4577-af8f-311b1a72531f",
   "metadata": {},
   "outputs": [
    {
     "data": {
      "text/plain": [
       "210"
      ]
     },
     "execution_count": 35,
     "metadata": {},
     "output_type": "execute_result"
    }
   ],
   "source": [
    "# Finding the sum of all values\n",
    "arr3.sum()"
   ]
  },
  {
   "cell_type": "code",
   "execution_count": 36,
   "id": "5e60fef2-c4be-4f2e-b2f0-3fc2f96e3342",
   "metadata": {},
   "outputs": [
    {
     "data": {
      "text/plain": [
       "array([50, 70, 90])"
      ]
     },
     "execution_count": 36,
     "metadata": {},
     "output_type": "execute_result"
    }
   ],
   "source": [
    "# Finding the sum of all columns\n",
    "arr3.sum(0)"
   ]
  },
  {
   "cell_type": "code",
   "execution_count": 37,
   "id": "e7f13c6f-0723-4913-8422-1dc5e428d333",
   "metadata": {},
   "outputs": [
    {
     "data": {
      "text/plain": [
       "array([ 60, 150])"
      ]
     },
     "execution_count": 37,
     "metadata": {},
     "output_type": "execute_result"
    }
   ],
   "source": [
    "# Finding the sum of all rows\n",
    "arr3.sum(1)"
   ]
  },
  {
   "cell_type": "code",
   "execution_count": 38,
   "id": "d7fbb9a7-9784-43eb-a371-24dec5c67d23",
   "metadata": {},
   "outputs": [
    {
     "data": {
      "text/plain": [
       "35.0"
      ]
     },
     "execution_count": 38,
     "metadata": {},
     "output_type": "execute_result"
    }
   ],
   "source": [
    "# Finding the mean\n",
    "arr3.mean()"
   ]
  },
  {
   "cell_type": "code",
   "execution_count": 39,
   "id": "19044db6-1ba0-4668-9d90-9e4a8bf1a61f",
   "metadata": {},
   "outputs": [
    {
     "data": {
      "text/plain": [
       "17.07825127659933"
      ]
     },
     "execution_count": 39,
     "metadata": {},
     "output_type": "execute_result"
    }
   ],
   "source": [
    "# Finding Standard Deviation\n",
    "arr3.std()"
   ]
  },
  {
   "cell_type": "code",
   "execution_count": 40,
   "id": "c08b42b8-0683-4515-960b-48566c823d8d",
   "metadata": {},
   "outputs": [
    {
     "data": {
      "text/plain": [
       "291.6666666666667"
      ]
     },
     "execution_count": 40,
     "metadata": {},
     "output_type": "execute_result"
    }
   ],
   "source": [
    "# Finding variance\n",
    "arr3.var()"
   ]
  },
  {
   "cell_type": "code",
   "execution_count": 43,
   "id": "0bc5dd14-1aff-41c6-a2cf-d3c3ecdfcb0c",
   "metadata": {},
   "outputs": [
    {
     "data": {
      "text/plain": [
       "10"
      ]
     },
     "execution_count": 43,
     "metadata": {},
     "output_type": "execute_result"
    }
   ],
   "source": [
    "# Finding min value\n",
    "arr3.min()"
   ]
  },
  {
   "cell_type": "code",
   "execution_count": 42,
   "id": "5a8d7b1d-73e3-41ee-9cb6-7ef2ecb752b5",
   "metadata": {},
   "outputs": [
    {
     "data": {
      "text/plain": [
       "60"
      ]
     },
     "execution_count": 42,
     "metadata": {},
     "output_type": "execute_result"
    }
   ],
   "source": [
    "# Finding max value\n",
    "arr3.max()"
   ]
  },
  {
   "cell_type": "markdown",
   "id": "8a768152-f821-43a3-a8c5-30c97de6b298",
   "metadata": {},
   "source": [
    "## Iterating through ndarrays\n",
    "\n",
    "Simpliest way is to use a simple loop"
   ]
  },
  {
   "cell_type": "code",
   "execution_count": 44,
   "id": "3106aaad-956d-40a7-9705-dbc6efbea3c2",
   "metadata": {},
   "outputs": [
    {
     "name": "stdout",
     "output_type": "stream",
     "text": [
      "10\n",
      "20\n",
      "30\n"
     ]
    }
   ],
   "source": [
    "# For a 1d array\n",
    "for x in arr1:\n",
    "    print(x)"
   ]
  },
  {
   "cell_type": "code",
   "execution_count": 45,
   "id": "ad7c6cc7-5d0c-45c2-861d-a741aa1f1e77",
   "metadata": {},
   "outputs": [
    {
     "name": "stdout",
     "output_type": "stream",
     "text": [
      "10\n",
      "20\n",
      "30\n",
      "40\n",
      "50\n",
      "60\n"
     ]
    }
   ],
   "source": [
    "# How about an n-dimensional array? Use nested loops\n",
    "for dim in arr3:\n",
    "    for num in dim:\n",
    "        print(num)"
   ]
  },
  {
   "cell_type": "code",
   "execution_count": 46,
   "id": "e29f72ed-c06d-41ba-b342-87047612a39b",
   "metadata": {},
   "outputs": [
    {
     "name": "stdout",
     "output_type": "stream",
     "text": [
      "10\n",
      "20\n",
      "30\n",
      "40\n",
      "50\n",
      "60\n"
     ]
    }
   ],
   "source": [
    "# There is another way! we can use nditer\n",
    "# This can be used in simple scenarios, but also very complex ones\n",
    "# It tends to be much cleaner for nested loops\n",
    "for x in np.nditer(arr3):\n",
    "    print(x)"
   ]
  },
  {
   "cell_type": "markdown",
   "id": "cb54a5c1-4405-4cc0-a8dc-477543ae3730",
   "metadata": {},
   "source": [
    "### Saving and loading in numpy"
   ]
  },
  {
   "cell_type": "code",
   "execution_count": 47,
   "id": "f33c9ec5-ea2d-4821-85d9-ec6e699e6301",
   "metadata": {},
   "outputs": [],
   "source": [
    "# To save an array as a file\n",
    "np.save(\"new\", arr3)"
   ]
  },
  {
   "cell_type": "code",
   "execution_count": 48,
   "id": "e7a60cc9-9055-4b3e-9165-059912d761c9",
   "metadata": {},
   "outputs": [
    {
     "data": {
      "text/plain": [
       "array([[10, 20, 30],\n",
       "       [40, 50, 60]])"
      ]
     },
     "execution_count": 48,
     "metadata": {},
     "output_type": "execute_result"
    }
   ],
   "source": [
    "# Load the file\n",
    "np.load(\"new.npy\")"
   ]
  },
  {
   "cell_type": "code",
   "execution_count": 49,
   "id": "2a0f68da-d736-4952-b93f-045ea59144de",
   "metadata": {},
   "outputs": [],
   "source": [
    "# Saving as a txt\n",
    "np.savetxt(\"new.txt\", arr3, delimiter=\",\")"
   ]
  },
  {
   "cell_type": "code",
   "execution_count": 50,
   "id": "1f6bb4b9-4c26-460d-9246-18fbda2e1e4a",
   "metadata": {},
   "outputs": [
    {
     "data": {
      "text/plain": [
       "array([[10., 20., 30.],\n",
       "       [40., 50., 60.]])"
      ]
     },
     "execution_count": 50,
     "metadata": {},
     "output_type": "execute_result"
    }
   ],
   "source": [
    "# Loading a txt\n",
    "np.loadtxt(\"new.txt\", delimiter=\",\")"
   ]
  },
  {
   "cell_type": "code",
   "execution_count": null,
   "id": "ac3c7d9c-f093-49c1-9556-7493e729b644",
   "metadata": {},
   "outputs": [],
   "source": []
  }
 ],
 "metadata": {
  "kernelspec": {
   "display_name": "Python 3 (ipykernel)",
   "language": "python",
   "name": "python3"
  },
  "language_info": {
   "codemirror_mode": {
    "name": "ipython",
    "version": 3
   },
   "file_extension": ".py",
   "mimetype": "text/x-python",
   "name": "python",
   "nbconvert_exporter": "python",
   "pygments_lexer": "ipython3",
   "version": "3.10.7"
  }
 },
 "nbformat": 4,
 "nbformat_minor": 5
}
