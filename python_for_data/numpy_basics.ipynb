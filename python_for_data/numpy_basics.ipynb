{
 "cells": [
  {
   "cell_type": "markdown",
   "id": "8563db8e-7c4e-45bb-a67a-87928ea8bce7",
   "metadata": {},
   "source": [
    "# Numpy"
   ]
  },
  {
   "cell_type": "markdown",
   "id": "3efe69de-73ad-4f29-bbeb-af36375ac9ff",
   "metadata": {},
   "source": [
    "Numpy is a library which provides support for large, homogeneous, multi-dimensional arrays and matrices"
   ]
  },
  {
   "cell_type": "code",
   "execution_count": 1,
   "id": "cc1958bd-8736-4e1d-9fbf-43cf81902906",
   "metadata": {},
   "outputs": [],
   "source": [
    "# import numpy\n",
    "import numpy as np"
   ]
  },
  {
   "cell_type": "markdown",
   "id": "9596acbc-498d-457c-b2b3-7a5c68ed310f",
   "metadata": {},
   "source": [
    "## Creating Arrays in Numpy\n",
    "\n",
    "### Creating an array from a list"
   ]
  },
  {
   "cell_type": "code",
   "execution_count": 2,
   "id": "6a22dec3-2644-4b27-bd7d-c15e331b65c4",
   "metadata": {},
   "outputs": [
    {
     "data": {
      "text/plain": [
       "[10, 20, 30]"
      ]
     },
     "execution_count": 2,
     "metadata": {},
     "output_type": "execute_result"
    }
   ],
   "source": [
    "list1 = [10,20,30]\n",
    "list1"
   ]
  },
  {
   "cell_type": "code",
   "execution_count": 3,
   "id": "ef261e9f-ad25-4805-822e-04880d6be1d2",
   "metadata": {},
   "outputs": [
    {
     "data": {
      "text/plain": [
       "array([10, 20, 30])"
      ]
     },
     "execution_count": 3,
     "metadata": {},
     "output_type": "execute_result"
    }
   ],
   "source": [
    "arr1 = np.array(list1)\n",
    "arr1"
   ]
  },
  {
   "cell_type": "code",
   "execution_count": 4,
   "id": "87ae80f6-32ce-407d-8333-8ff6b0c04fea",
   "metadata": {},
   "outputs": [
    {
     "data": {
      "text/plain": [
       "numpy.ndarray"
      ]
     },
     "execution_count": 4,
     "metadata": {},
     "output_type": "execute_result"
    }
   ],
   "source": [
    "type(arr1)"
   ]
  },
  {
   "cell_type": "markdown",
   "id": "98b1dae6-88fe-4ae7-8f4f-393aa82ee137",
   "metadata": {},
   "source": [
    "### Using arrange to create an array\n",
    "\n",
    "The difference between array and arrange is that array takes in a list and turns it into an array, whereas arange creates an array from a range of numbers."
   ]
  },
  {
   "cell_type": "code",
   "execution_count": 7,
   "id": "848baf2d-5c57-43eb-98a1-6615363a0959",
   "metadata": {},
   "outputs": [
    {
     "data": {
      "text/plain": [
       "array([10, 11, 12, 13, 14, 15, 16, 17, 18, 19])"
      ]
     },
     "execution_count": 7,
     "metadata": {},
     "output_type": "execute_result"
    }
   ],
   "source": [
    "arr2 = np.arange(10, 20, 1) # (Start, Stop, Step-Size)\n",
    "arr2"
   ]
  },
  {
   "cell_type": "markdown",
   "id": "b3ccbbb0-1a58-4412-b019-0140f199d174",
   "metadata": {},
   "source": [
    "## Multidimensional arrays\n",
    "\n",
    "### Combining two list - Two-dimensional arrays\n",
    "\n",
    "When we combine arrays together, we can add dimensions. Combining two arrays gives us a 2d array!\n",
    "\n",
    "This creates a matric for us on which we can perform matrix operations."
   ]
  },
  {
   "cell_type": "code",
   "execution_count": 8,
   "id": "b3f8ea38-873c-404f-ac6e-6a18a2d2e1c6",
   "metadata": {},
   "outputs": [
    {
     "data": {
      "text/plain": [
       "array([[10, 20, 30],\n",
       "       [40, 50, 60]])"
      ]
     },
     "execution_count": 8,
     "metadata": {},
     "output_type": "execute_result"
    }
   ],
   "source": [
    "# let's create a new list to join onto the first list\n",
    "list2 = [40,50,60]\n",
    "\n",
    "# Join the lists\n",
    "list3 = [list1, list2]\n",
    "\n",
    "# Create an array out of the joined lists\n",
    "arr3 = np.array(list3)\n",
    "arr3"
   ]
  },
  {
   "cell_type": "code",
   "execution_count": 9,
   "id": "1e60a3c5-b8fc-45a4-9178-94d624be33ea",
   "metadata": {},
   "outputs": [
    {
     "data": {
      "text/plain": [
       "(2, 3)"
      ]
     },
     "execution_count": 9,
     "metadata": {},
     "output_type": "execute_result"
    }
   ],
   "source": [
    "# Let's find the shape of that array\n",
    "# We have a 2d array with 2 elements in the first instance and 3 in the second\n",
    "arr3.shape"
   ]
  },
  {
   "cell_type": "code",
   "execution_count": null,
   "id": "c69dbee2-7592-45df-9f5c-96a7b2115dcd",
   "metadata": {},
   "outputs": [],
   "source": []
  }
 ],
 "metadata": {
  "kernelspec": {
   "display_name": "Python 3 (ipykernel)",
   "language": "python",
   "name": "python3"
  },
  "language_info": {
   "codemirror_mode": {
    "name": "ipython",
    "version": 3
   },
   "file_extension": ".py",
   "mimetype": "text/x-python",
   "name": "python",
   "nbconvert_exporter": "python",
   "pygments_lexer": "ipython3",
   "version": "3.10.7"
  }
 },
 "nbformat": 4,
 "nbformat_minor": 5
}
